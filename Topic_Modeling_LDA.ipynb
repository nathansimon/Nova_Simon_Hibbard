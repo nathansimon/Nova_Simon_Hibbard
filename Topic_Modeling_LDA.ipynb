{
 "cells": [
  {
   "cell_type": "code",
   "execution_count": null,
   "metadata": {},
   "outputs": [],
   "source": [
    "import pandas as pd\n",
    "\n",
    "data = pd.read_excel('textLDA.xlsx', error_bad_lines=False);\n",
    "data_text = data[['Summary']]\n",
    "documents = data_text"
   ]
  },
  {
   "cell_type": "code",
   "execution_count": null,
   "metadata": {},
   "outputs": [],
   "source": [
    "len(documents)"
   ]
  },
  {
   "cell_type": "code",
   "execution_count": 27,
   "metadata": {},
   "outputs": [
    {
     "data": {
      "text/html": [
       "<div>\n",
       "<style scoped>\n",
       "    .dataframe tbody tr th:only-of-type {\n",
       "        vertical-align: middle;\n",
       "    }\n",
       "\n",
       "    .dataframe tbody tr th {\n",
       "        vertical-align: top;\n",
       "    }\n",
       "\n",
       "    .dataframe thead th {\n",
       "        text-align: right;\n",
       "    }\n",
       "</style>\n",
       "<table border=\"1\" class=\"dataframe\">\n",
       "  <thead>\n",
       "    <tr style=\"text-align: right;\">\n",
       "      <th></th>\n",
       "      <th>Summary</th>\n",
       "    </tr>\n",
       "  </thead>\n",
       "  <tbody>\n",
       "    <tr>\n",
       "      <td>0</td>\n",
       "      <td>ENGLISH TRANSLATION: 'A MESSAGE TO THE TRUTHFU...</td>\n",
       "    </tr>\n",
       "    <tr>\n",
       "      <td>1</td>\n",
       "      <td>ENGLISH TRANSLATION: SHEIKH FATIH AL JAWLANI '...</td>\n",
       "    </tr>\n",
       "    <tr>\n",
       "      <td>2</td>\n",
       "      <td>ENGLISH TRANSLATION: FIRST AUDIO MEETING WITH ...</td>\n",
       "    </tr>\n",
       "    <tr>\n",
       "      <td>3</td>\n",
       "      <td>ENGLISH TRANSLATION: SHEIKH NASIR AL WUHAYSHI ...</td>\n",
       "    </tr>\n",
       "    <tr>\n",
       "      <td>4</td>\n",
       "      <td>ENGLISH TRANSLATION: AQAP: 'RESPONSE TO SHEIKH...</td>\n",
       "    </tr>\n",
       "  </tbody>\n",
       "</table>\n",
       "</div>"
      ],
      "text/plain": [
       "                                             Summary\n",
       "0  ENGLISH TRANSLATION: 'A MESSAGE TO THE TRUTHFU...\n",
       "1  ENGLISH TRANSLATION: SHEIKH FATIH AL JAWLANI '...\n",
       "2  ENGLISH TRANSLATION: FIRST AUDIO MEETING WITH ...\n",
       "3  ENGLISH TRANSLATION: SHEIKH NASIR AL WUHAYSHI ...\n",
       "4  ENGLISH TRANSLATION: AQAP: 'RESPONSE TO SHEIKH..."
      ]
     },
     "execution_count": 27,
     "metadata": {},
     "output_type": "execute_result"
    }
   ],
   "source": [
    "documents[:5]"
   ]
  },
  {
   "cell_type": "code",
   "execution_count": 45,
   "metadata": {},
   "outputs": [],
   "source": [
    "import gensim\n",
    "from gensim.utils import simple_preprocess\n",
    "from gensim.parsing.preprocessing import STOPWORDS\n",
    "from nltk.stem import WordNetLemmatizer, SnowballStemmer\n",
    "from nltk.stem.porter import *\n",
    "import numpy as np\n",
    "np.random.seed(2018)"
   ]
  },
  {
   "cell_type": "code",
   "execution_count": 46,
   "metadata": {},
   "outputs": [
    {
     "name": "stderr",
     "output_type": "stream",
     "text": [
      "[nltk_data] Downloading package wordnet to\n",
      "[nltk_data]     /Users/fayikanova/nltk_data...\n",
      "[nltk_data]   Package wordnet is already up-to-date!\n"
     ]
    },
    {
     "data": {
      "text/plain": [
       "True"
      ]
     },
     "execution_count": 46,
     "metadata": {},
     "output_type": "execute_result"
    }
   ],
   "source": [
    "import nltk\n",
    "nltk.download('wordnet')"
   ]
  },
  {
   "cell_type": "code",
   "execution_count": 47,
   "metadata": {},
   "outputs": [
    {
     "name": "stdout",
     "output_type": "stream",
     "text": [
      "go\n"
     ]
    }
   ],
   "source": [
    "print(WordNetLemmatizer().lemmatize('went', pos='v'))"
   ]
  },
  {
   "cell_type": "code",
   "execution_count": 48,
   "metadata": {},
   "outputs": [
    {
     "data": {
      "text/html": [
       "<div>\n",
       "<style scoped>\n",
       "    .dataframe tbody tr th:only-of-type {\n",
       "        vertical-align: middle;\n",
       "    }\n",
       "\n",
       "    .dataframe tbody tr th {\n",
       "        vertical-align: top;\n",
       "    }\n",
       "\n",
       "    .dataframe thead th {\n",
       "        text-align: right;\n",
       "    }\n",
       "</style>\n",
       "<table border=\"1\" class=\"dataframe\">\n",
       "  <thead>\n",
       "    <tr style=\"text-align: right;\">\n",
       "      <th></th>\n",
       "      <th>original word</th>\n",
       "      <th>stemmed</th>\n",
       "    </tr>\n",
       "  </thead>\n",
       "  <tbody>\n",
       "    <tr>\n",
       "      <td>0</td>\n",
       "      <td>caresses</td>\n",
       "      <td>caress</td>\n",
       "    </tr>\n",
       "    <tr>\n",
       "      <td>1</td>\n",
       "      <td>flies</td>\n",
       "      <td>fli</td>\n",
       "    </tr>\n",
       "    <tr>\n",
       "      <td>2</td>\n",
       "      <td>dies</td>\n",
       "      <td>die</td>\n",
       "    </tr>\n",
       "    <tr>\n",
       "      <td>3</td>\n",
       "      <td>mules</td>\n",
       "      <td>mule</td>\n",
       "    </tr>\n",
       "    <tr>\n",
       "      <td>4</td>\n",
       "      <td>denied</td>\n",
       "      <td>deni</td>\n",
       "    </tr>\n",
       "    <tr>\n",
       "      <td>5</td>\n",
       "      <td>died</td>\n",
       "      <td>die</td>\n",
       "    </tr>\n",
       "    <tr>\n",
       "      <td>6</td>\n",
       "      <td>agreed</td>\n",
       "      <td>agre</td>\n",
       "    </tr>\n",
       "    <tr>\n",
       "      <td>7</td>\n",
       "      <td>owned</td>\n",
       "      <td>own</td>\n",
       "    </tr>\n",
       "    <tr>\n",
       "      <td>8</td>\n",
       "      <td>humbled</td>\n",
       "      <td>humbl</td>\n",
       "    </tr>\n",
       "    <tr>\n",
       "      <td>9</td>\n",
       "      <td>sized</td>\n",
       "      <td>size</td>\n",
       "    </tr>\n",
       "    <tr>\n",
       "      <td>10</td>\n",
       "      <td>meeting</td>\n",
       "      <td>meet</td>\n",
       "    </tr>\n",
       "    <tr>\n",
       "      <td>11</td>\n",
       "      <td>stating</td>\n",
       "      <td>state</td>\n",
       "    </tr>\n",
       "    <tr>\n",
       "      <td>12</td>\n",
       "      <td>siezing</td>\n",
       "      <td>siez</td>\n",
       "    </tr>\n",
       "    <tr>\n",
       "      <td>13</td>\n",
       "      <td>itemization</td>\n",
       "      <td>item</td>\n",
       "    </tr>\n",
       "    <tr>\n",
       "      <td>14</td>\n",
       "      <td>sensational</td>\n",
       "      <td>sensat</td>\n",
       "    </tr>\n",
       "    <tr>\n",
       "      <td>15</td>\n",
       "      <td>traditional</td>\n",
       "      <td>tradit</td>\n",
       "    </tr>\n",
       "    <tr>\n",
       "      <td>16</td>\n",
       "      <td>reference</td>\n",
       "      <td>refer</td>\n",
       "    </tr>\n",
       "    <tr>\n",
       "      <td>17</td>\n",
       "      <td>colonizer</td>\n",
       "      <td>colon</td>\n",
       "    </tr>\n",
       "    <tr>\n",
       "      <td>18</td>\n",
       "      <td>plotted</td>\n",
       "      <td>plot</td>\n",
       "    </tr>\n",
       "  </tbody>\n",
       "</table>\n",
       "</div>"
      ],
      "text/plain": [
       "   original word stemmed\n",
       "0       caresses  caress\n",
       "1          flies     fli\n",
       "2           dies     die\n",
       "3          mules    mule\n",
       "4         denied    deni\n",
       "5           died     die\n",
       "6         agreed    agre\n",
       "7          owned     own\n",
       "8        humbled   humbl\n",
       "9          sized    size\n",
       "10       meeting    meet\n",
       "11       stating   state\n",
       "12       siezing    siez\n",
       "13   itemization    item\n",
       "14   sensational  sensat\n",
       "15   traditional  tradit\n",
       "16     reference   refer\n",
       "17     colonizer   colon\n",
       "18       plotted    plot"
      ]
     },
     "execution_count": 48,
     "metadata": {},
     "output_type": "execute_result"
    }
   ],
   "source": [
    "stemmer = SnowballStemmer('english')\n",
    "original_words = ['caresses', 'flies', 'dies', 'mules', 'denied','died', 'agreed', 'owned', \n",
    "           'humbled', 'sized','meeting', 'stating', 'siezing', 'itemization','sensational', \n",
    "           'traditional', 'reference', 'colonizer','plotted']\n",
    "singles = [stemmer.stem(plural) for plural in original_words]\n",
    "pd.DataFrame(data = {'original word': original_words, 'stemmed': singles})"
   ]
  },
  {
   "cell_type": "code",
   "execution_count": 64,
   "metadata": {},
   "outputs": [],
   "source": [
    "def lemmatize_stemming(text):\n",
    "    return stemmer.stem(WordNetLemmatizer().lemmatize(text, pos='v'))\n",
    "\n",
    "def preprocess(text):\n",
    "    result = []\n",
    "    for token in gensim.utils.simple_preprocess(text):\n",
    "        if token not in gensim.parsing.preprocessing.STOPWORDS and len(token) > 3:\n",
    "            result.append(lemmatize_stemming(token))\n",
    "    return result"
   ]
  },
  {
   "cell_type": "code",
   "execution_count": 65,
   "metadata": {},
   "outputs": [],
   "source": [
    "processed_docs = documents['Summary'].astype(str).map(preprocess)"
   ]
  },
  {
   "cell_type": "code",
   "execution_count": 66,
   "metadata": {},
   "outputs": [
    {
     "data": {
      "text/plain": [
       "0    [english, translat, messag, truth, syria, shei...\n",
       "1    [english, translat, sheikh, fatih, jawlani, pe...\n",
       "2    [english, translat, audio, meet, sheikh, fatih...\n",
       "3    [english, translat, sheikh, nasir, wuhayshi, l...\n",
       "4    [english, translat, aqap, respons, sheikh, bag...\n",
       "5    [second, clip, seri, soldier, video, link, htt...\n",
       "6    [english, transcript, murabit, http, hujlj, kg...\n",
       "7    [english, translat, collect, word, lama, dawla...\n",
       "8    [aslm, share, account, previous, suspend, khal...\n",
       "9    [english, translat, aqap, statement, bless, ra...\n",
       "Name: Summary, dtype: object"
      ]
     },
     "execution_count": 66,
     "metadata": {},
     "output_type": "execute_result"
    }
   ],
   "source": [
    "processed_docs[:10]"
   ]
  },
  {
   "cell_type": "code",
   "execution_count": 67,
   "metadata": {},
   "outputs": [],
   "source": [
    "dictionary = gensim.corpora.Dictionary(processed_docs)"
   ]
  },
  {
   "cell_type": "code",
   "execution_count": 68,
   "metadata": {},
   "outputs": [
    {
     "name": "stdout",
     "output_type": "stream",
     "text": [
      "0 bzcscxzq\n",
      "1 english\n",
      "2 http\n",
      "3 maqdisi\n",
      "4 messag\n",
      "5 muham\n",
      "6 sheikh\n",
      "7 syria\n",
      "8 translat\n",
      "9 truth\n",
      "10 xfszsjvr\n"
     ]
    }
   ],
   "source": [
    "count = 0\n",
    "for k, v in dictionary.iteritems():\n",
    "    print(k, v)\n",
    "    count += 1\n",
    "    if count > 10:\n",
    "        break"
   ]
  },
  {
   "cell_type": "code",
   "execution_count": 69,
   "metadata": {},
   "outputs": [],
   "source": [
    "dictionary.filter_extremes(no_below=15, no_above=0.5, keep_n=100000)"
   ]
  },
  {
   "cell_type": "code",
   "execution_count": 70,
   "metadata": {},
   "outputs": [
    {
     "data": {
      "text/plain": [
       "[(219, 1), (464, 1), (623, 1), (915, 1), (1066, 1), (1148, 1), (1420, 1)]"
      ]
     },
     "execution_count": 70,
     "metadata": {},
     "output_type": "execute_result"
    }
   ],
   "source": [
    "bow_corpus = [dictionary.doc2bow(doc) for doc in processed_docs]\n",
    "bow_corpus[4310]"
   ]
  },
  {
   "cell_type": "code",
   "execution_count": 71,
   "metadata": {},
   "outputs": [
    {
     "name": "stdout",
     "output_type": "stream",
     "text": [
      "Word 219 (\"die\") appears 1 time.\n",
      "Word 464 (\"bomb\") appears 1 time.\n",
      "Word 623 (\"cluster\") appears 1 time.\n",
      "Word 915 (\"wayf\") appears 1 time.\n",
      "Word 1066 (\"explod\") appears 1 time.\n",
      "Word 1148 (\"student\") appears 1 time.\n",
      "Word 1420 (\"rer__\") appears 1 time.\n"
     ]
    }
   ],
   "source": [
    "bow_doc_4310 = bow_corpus[4310]\n",
    "\n",
    "for i in range(len(bow_doc_4310)):\n",
    "    print(\"Word {} (\\\"{}\\\") appears {} time.\".format(bow_doc_4310[i][0], \n",
    "                                                     dictionary[bow_doc_4310[i][0]], \n",
    "                                                     bow_doc_4310[i][1]))"
   ]
  },
  {
   "cell_type": "code",
   "execution_count": 72,
   "metadata": {},
   "outputs": [],
   "source": [
    "from gensim import corpora, models\n",
    "\n",
    "tfidf = models.TfidfModel(bow_corpus)\n"
   ]
  },
  {
   "cell_type": "code",
   "execution_count": 73,
   "metadata": {},
   "outputs": [],
   "source": [
    "corpus_tfidf = tfidf[bow_corpus]"
   ]
  },
  {
   "cell_type": "code",
   "execution_count": 74,
   "metadata": {},
   "outputs": [
    {
     "name": "stdout",
     "output_type": "stream",
     "text": [
      "[(0, 0.34493054413034635),\n",
      " (1, 0.497045147662217),\n",
      " (2, 0.4168438606487528),\n",
      " (3, 0.3508802280734451),\n",
      " (4, 0.2820665771118998),\n",
      " (5, 0.1376582816633768),\n",
      " (6, 0.3521443313090525),\n",
      " (7, 0.33849123443705564)]\n"
     ]
    }
   ],
   "source": [
    "from pprint import pprint\n",
    "\n",
    "for doc in corpus_tfidf:\n",
    "    pprint(doc)\n",
    "    break"
   ]
  },
  {
   "cell_type": "code",
   "execution_count": 107,
   "metadata": {},
   "outputs": [],
   "source": [
    "lda_model = gensim.models.LdaMulticore(bow_corpus, num_topics=3, id2word=dictionary, passes=2, workers=2)\n"
   ]
  },
  {
   "cell_type": "code",
   "execution_count": 108,
   "metadata": {},
   "outputs": [
    {
     "name": "stdout",
     "output_type": "stream",
     "text": [
      "Topic: 0 \n",
      "Words: 0.023*\"kill\" + 0.018*\"break\" + 0.016*\"armi\" + 0.016*\"scotsmaninfidel\" + 0.015*\"isi\" + 0.015*\"soldier\" + 0.014*\"iraqi\" + 0.013*\"forc\" + 0.013*\"amaqag\" + 0.012*\"spicylatt\"\n",
      "Topic: 1 \n",
      "Words: 0.038*\"isi\" + 0.022*\"syria\" + 0.020*\"islam\" + 0.016*\"state\" + 0.015*\"iraq\" + 0.013*\"ramiallolah\" + 0.012*\"assad\" + 0.011*\"report\" + 0.009*\"allah\" + 0.009*\"armi\"\n",
      "Topic: 2 \n",
      "Words: 0.019*\"islamicst\" + 0.019*\"kill\" + 0.014*\"isi\" + 0.011*\"muslim\" + 0.010*\"amaqag\" + 0.009*\"bomb\" + 0.009*\"allah\" + 0.008*\"support\" + 0.008*\"syria\" + 0.008*\"break\"\n"
     ]
    }
   ],
   "source": [
    "for idx, topic in lda_model.print_topics(-1):\n",
    "    print('Topic: {} \\nWords: {}'.format(idx, topic))"
   ]
  },
  {
   "cell_type": "code",
   "execution_count": 86,
   "metadata": {},
   "outputs": [],
   "source": [
    "lda_model_tfidf = gensim.models.LdaMulticore(corpus_tfidf, num_topics=10, id2word=dictionary, passes=2, workers=4)"
   ]
  },
  {
   "cell_type": "code",
   "execution_count": 87,
   "metadata": {},
   "outputs": [
    {
     "name": "stdout",
     "output_type": "stream",
     "text": [
      "Topic: 0 Word: 0.008*\"kill\" + 0.007*\"allah\" + 0.007*\"soldier\" + 0.006*\"muslim\" + 0.006*\"islam\" + 0.006*\"isi\" + 0.005*\"alhamdulillah\" + 0.005*\"islamicst\" + 0.005*\"know\" + 0.005*\"syria\"\n",
      "Topic: 1 Word: 0.010*\"like\" + 0.008*\"syria\" + 0.008*\"muslim\" + 0.008*\"kill\" + 0.008*\"isi\" + 0.007*\"bomb\" + 0.007*\"today\" + 0.007*\"assad\" + 0.006*\"year\" + 0.006*\"attack\"\n",
      "Topic: 2 Word: 0.014*\"allah\" + 0.008*\"syria\" + 0.008*\"islam\" + 0.008*\"arab\" + 0.007*\"isi\" + 0.007*\"sparksofirhabi\" + 0.007*\"state\" + 0.007*\"true\" + 0.006*\"http\" + 0.006*\"iraq\"\n",
      "Topic: 3 Word: 0.012*\"break\" + 0.010*\"islamicst\" + 0.010*\"kill\" + 0.010*\"aleppo\" + 0.010*\"isi\" + 0.008*\"syria\" + 0.006*\"forc\" + 0.006*\"explos\" + 0.006*\"soldier\" + 0.006*\"amaqag\"\n",
      "Topic: 4 Word: 0.012*\"syria\" + 0.010*\"assad\" + 0.008*\"isi\" + 0.008*\"kill\" + 0.007*\"state\" + 0.007*\"islam\" + 0.007*\"russia\" + 0.007*\"today\" + 0.007*\"airstrik\" + 0.006*\"follow\"\n",
      "Topic: 5 Word: 0.012*\"isi\" + 0.012*\"support\" + 0.010*\"syria\" + 0.009*\"islam\" + 0.008*\"attack\" + 0.007*\"assad\" + 0.007*\"uncle_samcoco\" + 0.007*\"state\" + 0.006*\"armi\" + 0.005*\"kill\"\n",
      "Topic: 6 Word: 0.018*\"isi\" + 0.010*\"report\" + 0.010*\"kill\" + 0.010*\"iraq\" + 0.010*\"ramiallolah\" + 0.008*\"syria\" + 0.008*\"armi\" + 0.008*\"nidalgazaui\" + 0.007*\"near\" + 0.007*\"soldier\"\n",
      "Topic: 7 Word: 0.009*\"isi\" + 0.008*\"news\" + 0.007*\"kill\" + 0.006*\"khair\" + 0.006*\"syria\" + 0.006*\"polic\" + 0.006*\"report\" + 0.005*\"dan\" + 0.005*\"caliphate_new\" + 0.005*\"photo\"\n",
      "Topic: 8 Word: 0.010*\"kill\" + 0.010*\"isi\" + 0.009*\"muslim\" + 0.008*\"ameen\" + 0.008*\"syria\" + 0.008*\"amaqag\" + 0.006*\"fight\" + 0.006*\"forc\" + 0.006*\"wound\" + 0.006*\"armi\"\n",
      "Topic: 9 Word: 0.013*\"islam\" + 0.010*\"state\" + 0.009*\"isi\" + 0.009*\"aleppo\" + 0.008*\"video\" + 0.007*\"syria\" + 0.006*\"claim\" + 0.006*\"villag\" + 0.006*\"captur\" + 0.006*\"syrian\"\n"
     ]
    }
   ],
   "source": [
    "for idx, topic in lda_model_tfidf.print_topics(-1):\n",
    "    print('Topic: {} Word: {}'.format(idx, topic))"
   ]
  },
  {
   "cell_type": "code",
   "execution_count": 88,
   "metadata": {},
   "outputs": [
    {
     "data": {
      "text/plain": [
       "['wayf', 'rer__', 'student', 'die', 'cluster', 'bomb', 'explod']"
      ]
     },
     "execution_count": 88,
     "metadata": {},
     "output_type": "execute_result"
    }
   ],
   "source": [
    "processed_docs[4310]"
   ]
  },
  {
   "cell_type": "code",
   "execution_count": 105,
   "metadata": {},
   "outputs": [
    {
     "name": "stdout",
     "output_type": "stream",
     "text": [
      "\n",
      "Score: 0.7248592972755432\t \n",
      "Topic: 0.040*\"amaqag\" + 0.033*\"iraqi\" + 0.027*\"forc\" + 0.026*\"break\" + 0.019*\"kill\" + 0.017*\"ramadi\" + 0.016*\"destroy\" + 0.015*\"area\" + 0.015*\"citi\" + 0.013*\"armi\"\n",
      "\n",
      "Score: 0.17508241534233093\t \n",
      "Topic: 0.019*\"saudi\" + 0.017*\"kill\" + 0.014*\"aleppo\" + 0.013*\"soldier\" + 0.012*\"peigneacheveux\" + 0.012*\"today\" + 0.012*\"islam\" + 0.011*\"peopl\" + 0.011*\"oper\" + 0.010*\"assad\"\n",
      "\n",
      "Score: 0.012512454763054848\t \n",
      "Topic: 0.023*\"attack\" + 0.014*\"amaqag\" + 0.013*\"hit\" + 0.013*\"gather\" + 0.012*\"break\" + 0.012*\"forc\" + 0.010*\"isi\" + 0.010*\"syria\" + 0.009*\"area\" + 0.009*\"islamic_st\"\n",
      "\n",
      "Score: 0.01250859908759594\t \n",
      "Topic: 0.021*\"support\" + 0.020*\"follow\" + 0.018*\"isi\" + 0.015*\"warreport\" + 0.013*\"peopl\" + 0.013*\"kill\" + 0.013*\"think\" + 0.013*\"syria\" + 0.012*\"rebel\" + 0.010*\"say\"\n",
      "\n",
      "Score: 0.012507976032793522\t \n",
      "Topic: 0.042*\"isi\" + 0.038*\"islam\" + 0.031*\"state\" + 0.026*\"ramadi\" + 0.024*\"iraq\" + 0.020*\"attack\" + 0.019*\"armi\" + 0.017*\"north\" + 0.015*\"kill\" + 0.014*\"report\"\n",
      "\n",
      "Score: 0.012507106177508831\t \n",
      "Topic: 0.045*\"isi\" + 0.027*\"syria\" + 0.020*\"armi\" + 0.016*\"kill\" + 0.016*\"ramiallolah\" + 0.016*\"near\" + 0.013*\"turkey\" + 0.013*\"iraq\" + 0.011*\"hom\" + 0.011*\"breakingnew\"\n",
      "\n",
      "Score: 0.012506452389061451\t \n",
      "Topic: 0.051*\"kill\" + 0.022*\"soldier\" + 0.022*\"iraqi\" + 0.019*\"armi\" + 0.017*\"allah\" + 0.015*\"today\" + 0.012*\"egyptian\" + 0.012*\"near\" + 0.012*\"command\" + 0.012*\"sinai\"\n",
      "\n",
      "Score: 0.01250587310642004\t \n",
      "Topic: 0.029*\"syria\" + 0.024*\"aleppo\" + 0.022*\"isi\" + 0.021*\"nidalgazaui\" + 0.019*\"report\" + 0.018*\"soldier\" + 0.016*\"kill\" + 0.016*\"rebel\" + 0.015*\"video\" + 0.013*\"near\"\n",
      "\n",
      "Score: 0.012505341321229935\t \n",
      "Topic: 0.038*\"isi\" + 0.035*\"islamicst\" + 0.027*\"break\" + 0.023*\"amaqag\" + 0.020*\"kill\" + 0.019*\"fighter\" + 0.014*\"fight\" + 0.014*\"nusra\" + 0.013*\"syria\" + 0.012*\"regim\"\n",
      "\n",
      "Score: 0.012504510581493378\t \n",
      "Topic: 0.056*\"scotsmaninfidel\" + 0.044*\"spicylatt\" + 0.040*\"sassysassyr\" + 0.035*\"kafirkati\" + 0.018*\"like\" + 0.013*\"allah\" + 0.012*\"time\" + 0.010*\"syria\" + 0.010*\"islamicst\" + 0.008*\"say\"\n"
     ]
    }
   ],
   "source": [
    "for index, score in sorted(lda_model[bow_corpus[4310]], key=lambda tup: -1*tup[1]):\n",
    "    print(\"\\nScore: {}\\t \\nTopic: {}\".format(score, lda_model.print_topic(index, 10)))\n"
   ]
  },
  {
   "cell_type": "code",
   "execution_count": 90,
   "metadata": {},
   "outputs": [
    {
     "name": "stdout",
     "output_type": "stream",
     "text": [
      "\n",
      "Score: 0.7110638618469238\t \n",
      "Topic: 0.010*\"kill\" + 0.010*\"isi\" + 0.009*\"muslim\" + 0.008*\"ameen\" + 0.008*\"syria\" + 0.008*\"amaqag\" + 0.006*\"fight\" + 0.006*\"forc\" + 0.006*\"wound\" + 0.006*\"armi\"\n",
      "\n",
      "Score: 0.18890295922756195\t \n",
      "Topic: 0.012*\"syria\" + 0.010*\"assad\" + 0.008*\"isi\" + 0.008*\"kill\" + 0.007*\"state\" + 0.007*\"islam\" + 0.007*\"russia\" + 0.007*\"today\" + 0.007*\"airstrik\" + 0.006*\"follow\"\n",
      "\n",
      "Score: 0.01250555831938982\t \n",
      "Topic: 0.010*\"like\" + 0.008*\"syria\" + 0.008*\"muslim\" + 0.008*\"kill\" + 0.008*\"isi\" + 0.007*\"bomb\" + 0.007*\"today\" + 0.007*\"assad\" + 0.006*\"year\" + 0.006*\"attack\"\n",
      "\n",
      "Score: 0.012505009770393372\t \n",
      "Topic: 0.012*\"break\" + 0.010*\"islamicst\" + 0.010*\"kill\" + 0.010*\"aleppo\" + 0.010*\"isi\" + 0.008*\"syria\" + 0.006*\"forc\" + 0.006*\"explos\" + 0.006*\"soldier\" + 0.006*\"amaqag\"\n",
      "\n",
      "Score: 0.01250418834388256\t \n",
      "Topic: 0.009*\"isi\" + 0.008*\"news\" + 0.007*\"kill\" + 0.006*\"khair\" + 0.006*\"syria\" + 0.006*\"polic\" + 0.006*\"report\" + 0.005*\"dan\" + 0.005*\"caliphate_new\" + 0.005*\"photo\"\n",
      "\n",
      "Score: 0.012504110112786293\t \n",
      "Topic: 0.014*\"allah\" + 0.008*\"syria\" + 0.008*\"islam\" + 0.008*\"arab\" + 0.007*\"isi\" + 0.007*\"sparksofirhabi\" + 0.007*\"state\" + 0.007*\"true\" + 0.006*\"http\" + 0.006*\"iraq\"\n",
      "\n",
      "Score: 0.01250406913459301\t \n",
      "Topic: 0.018*\"isi\" + 0.010*\"report\" + 0.010*\"kill\" + 0.010*\"iraq\" + 0.010*\"ramiallolah\" + 0.008*\"syria\" + 0.008*\"armi\" + 0.008*\"nidalgazaui\" + 0.007*\"near\" + 0.007*\"soldier\"\n",
      "\n",
      "Score: 0.012503697536885738\t \n",
      "Topic: 0.008*\"kill\" + 0.007*\"allah\" + 0.007*\"soldier\" + 0.006*\"muslim\" + 0.006*\"islam\" + 0.006*\"isi\" + 0.005*\"alhamdulillah\" + 0.005*\"islamicst\" + 0.005*\"know\" + 0.005*\"syria\"\n",
      "\n",
      "Score: 0.012503317557275295\t \n",
      "Topic: 0.013*\"islam\" + 0.010*\"state\" + 0.009*\"isi\" + 0.009*\"aleppo\" + 0.008*\"video\" + 0.007*\"syria\" + 0.006*\"claim\" + 0.006*\"villag\" + 0.006*\"captur\" + 0.006*\"syrian\"\n",
      "\n",
      "Score: 0.012503226287662983\t \n",
      "Topic: 0.012*\"isi\" + 0.012*\"support\" + 0.010*\"syria\" + 0.009*\"islam\" + 0.008*\"attack\" + 0.007*\"assad\" + 0.007*\"uncle_samcoco\" + 0.007*\"state\" + 0.006*\"armi\" + 0.005*\"kill\"\n"
     ]
    }
   ],
   "source": [
    "for index, score in sorted(lda_model_tfidf[bow_corpus[4310]], key=lambda tup: -1*tup[1]):\n",
    "    print(\"\\nScore: {}\\t \\nTopic: {}\".format(score, lda_model_tfidf.print_topic(index, 10)))"
   ]
  },
  {
   "cell_type": "code",
   "execution_count": 106,
   "metadata": {},
   "outputs": [
    {
     "name": "stdout",
     "output_type": "stream",
     "text": [
      "\n",
      "Perplexity:  -7.108053377606274\n",
      "\n",
      "Coherence Score:  0.3856902700970771\n"
     ]
    }
   ],
   "source": [
    "# Compute Perplexity\n",
    "print('\\nPerplexity: ', lda_model.log_perplexity(bow_corpus))  # a measure of how good the model is. lower the better.\n",
    "\n",
    "# Compute Coherence Score\n",
    "coherence_model_lda = CoherenceModel(model=lda_model, texts=processed_docs , dictionary=dictionary, coherence='c_v')\n",
    "coherence_lda = coherence_model_lda.get_coherence()\n",
    "print('\\nCoherence Score: ', coherence_lda)"
   ]
  },
  {
   "cell_type": "code",
   "execution_count": 92,
   "metadata": {},
   "outputs": [
    {
     "name": "stdout",
     "output_type": "stream",
     "text": [
      "\n",
      "Perplexity:  -8.452541413625205\n",
      "\n",
      "Coherence Score:  0.37149279955818904\n"
     ]
    }
   ],
   "source": [
    "#Compute Perplexity\n",
    "print('\\nPerplexity: ', lda_model.log_perplexity(corpus_tfidf))  # a measure of how good the model is. lower the better.\n",
    "\n",
    "# Compute Coherence Score\n",
    "coherence_model_lda = CoherenceModel(model=lda_model_tfidf, texts=processed_docs , dictionary=dictionary, coherence='c_v')\n",
    "coherence_lda = coherence_model_lda.get_coherence()\n",
    "print('\\nCoherence Score: ', coherence_lda)"
   ]
  },
  {
   "cell_type": "code",
   "execution_count": null,
   "metadata": {},
   "outputs": [],
   "source": []
  }
 ],
 "metadata": {
  "kernelspec": {
   "display_name": "Python 3",
   "language": "python",
   "name": "python3"
  },
  "language_info": {
   "codemirror_mode": {
    "name": "ipython",
    "version": 3
   },
   "file_extension": ".py",
   "mimetype": "text/x-python",
   "name": "python",
   "nbconvert_exporter": "python",
   "pygments_lexer": "ipython3",
   "version": "3.7.4"
  }
 },
 "nbformat": 4,
 "nbformat_minor": 2
}
